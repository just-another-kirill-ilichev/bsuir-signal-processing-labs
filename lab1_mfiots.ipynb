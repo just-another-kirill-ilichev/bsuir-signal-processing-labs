{
  "nbformat": 4,
  "nbformat_minor": 0,
  "metadata": {
    "colab": {
      "name": "lab1_mfiots.ipynb",
      "provenance": [],
      "collapsed_sections": [],
      "authorship_tag": "ABX9TyPiWgIg9+iE6IeCU8QXnJWi",
      "include_colab_link": true
    },
    "kernelspec": {
      "name": "python3",
      "display_name": "Python 3"
    }
  },
  "cells": [
    {
      "cell_type": "markdown",
      "metadata": {
        "id": "view-in-github",
        "colab_type": "text"
      },
      "source": [
        "<a href=\"https://colab.research.google.com/github/just-another-kirill-ilichev/bsuir-signal-processing-labs/blob/main/lab1_mfiots.ipynb\" target=\"_parent\"><img src=\"https://colab.research.google.com/assets/colab-badge.svg\" alt=\"Open In Colab\"/></a>"
      ]
    },
    {
      "cell_type": "code",
      "metadata": {
        "id": "clo_l-wsHhkj"
      },
      "source": [
        "import matplotlib.pyplot as plt\n",
        "import numpy as np\n",
        "import math\n",
        " \n",
        "def draw_discrete_function_plot(func, start=0, stop=10):\n",
        "  k = np.arange(start, stop)\n",
        "  y = np.vectorize(func, otypes=[np.float])(k)\n",
        " \n",
        "  plt.stem(k, y, use_line_collection=True)\n",
        "  plt.show()\n",
        " \n",
        "def draw_continuous_function_plot(func, start=0, stop=10, num=100):\n",
        "  t = np.linspace(start, stop, num)\n",
        "  y = np.vectorize(func, otypes=[np.float])(t)\n",
        " \n",
        "  plt.plot(t, y)\n",
        "  plt.show()"
      ],
      "execution_count": null,
      "outputs": []
    },
    {
      "cell_type": "markdown",
      "metadata": {
        "id": "XfSPa08VOyEF"
      },
      "source": [
        "## Сигнал 1"
      ]
    },
    {
      "cell_type": "code",
      "metadata": {
        "colab": {
          "base_uri": "https://localhost:8080/",
          "height": 265
        },
        "id": "92fv1PPwdc_f",
        "outputId": "688fa602-2704-4826-8a00-e5802ceceaa2"
      },
      "source": [
        "S0 = 10\n",
        "N0 = 8\n",
        " \n",
        "def S1(k):\n",
        "  return S0 if 0 <= k < N0 else 0\n",
        " \n",
        "draw_discrete_function_plot(S1)"
      ],
      "execution_count": null,
      "outputs": [
        {
          "output_type": "display_data",
          "data": {
            "image/png": "[encoded data removed]",
            "text/plain": [
              "<Figure size 432x288 with 1 Axes>"
            ]
          },
          "metadata": {
            "tags": [],
            "needs_background": "light"
          }
        }
      ]
    },
    {
      "cell_type": "markdown",
      "metadata": {
        "id": "pFYqR525O44C"
      },
      "source": [
        "## Сигнал 2"
      ]
    },
    {
      "cell_type": "code",
      "metadata": {
        "colab": {
          "base_uri": "https://localhost:8080/",
          "height": 265
        },
        "id": "XPDzB20mHxrr",
        "outputId": "6359850d-3a1a-41b1-e9f2-bfaa4791f71b"
      },
      "source": [
        "S0 = 10\n",
        "N0 = 5\n",
        "a = math.exp(-0.2)\n",
        "\n",
        "def S2(k):\n",
        "  return S0 * math.pow(a, k) if 0 <= k < N0 else 0\n",
        "\n",
        "draw_discrete_function_plot(S2)"
      ],
      "execution_count": null,
      "outputs": [
        {
          "output_type": "display_data",
          "data": {
            "image/png": "[encoded data removed]",
            "text/plain": [
              "<Figure size 432x288 with 1 Axes>"
            ]
          },
          "metadata": {
            "tags": [],
            "needs_background": "light"
          }
        }
      ]
    },
    {
      "cell_type": "markdown",
      "metadata": {
        "id": "0ARmIxbmO8cK"
      },
      "source": [
        "## Сигнал 3"
      ]
    },
    {
      "cell_type": "code",
      "metadata": {
        "colab": {
          "base_uri": "https://localhost:8080/",
          "height": 265
        },
        "id": "qAbadMeaLEwC",
        "outputId": "a046b845-a0ff-467e-b081-405be379f23c"
      },
      "source": [
        "N0 = 11\n",
        "a1, a2 = 0, -1\n",
        "\n",
        "def S3(k):\n",
        "  if k == 0:\n",
        "    return 1;\n",
        "\n",
        "  return a1 * S3(k - 1) + a2 * S3(k - 2) if 0 <= k < N0 else 0\n",
        "\n",
        "draw_discrete_function_plot(S3)"
      ],
      "execution_count": null,
      "outputs": [
        {
          "output_type": "display_data",
          "data": {
            "image/png": "[encoded data removed]",
            "text/plain": [
              "<Figure size 432x288 with 1 Axes>"
            ]
          },
          "metadata": {
            "tags": [],
            "needs_background": "light"
          }
        }
      ]
    },
    {
      "cell_type": "markdown",
      "metadata": {
        "id": "Za_vkp2USyrx"
      },
      "source": [
        "## Сигнал 4"
      ]
    },
    {
      "cell_type": "markdown",
      "metadata": {
        "id": "UybACsW8Zgxd"
      },
      "source": [
        "Непрерывная форма"
      ]
    },
    {
      "cell_type": "code",
      "metadata": {
        "colab": {
          "base_uri": "https://localhost:8080/",
          "height": 265
        },
        "id": "YSFwkSwcS5v1",
        "outputId": "391f8c21-52d9-4658-cc23-6ded1dd1e89a"
      },
      "source": [
        "T = 0.5 * 10**-3\n",
        "S0 = 10\n",
        "f0 = 2000\n",
        "\n",
        "def S4(t):\n",
        "  arg = 2 * math.pi * f0 * t\n",
        "  return S0 * math.sin(arg) / arg if abs(t) <= T else 0\n",
        "\n",
        "draw_continuous_function_plot(S4, start=-0.001, stop=0.001)"
      ],
      "execution_count": null,
      "outputs": [
        {
          "output_type": "display_data",
          "data": {
            "image/png": "[encoded data removed]",
            "text/plain": [
              "<Figure size 432x288 with 1 Axes>"
            ]
          },
          "metadata": {
            "tags": [],
            "needs_background": "light"
          }
        }
      ]
    },
    {
      "cell_type": "markdown",
      "metadata": {
        "id": "7jel_KLdaZnO"
      },
      "source": [
        "Дискретная форма"
      ]
    },
    {
      "cell_type": "code",
      "metadata": {
        "colab": {
          "base_uri": "https://localhost:8080/",
          "height": 564
        },
        "id": "weEvJrbGadkn",
        "outputId": "425f7da6-9986-4b9c-87d7-a60b7c81bf94"
      },
      "source": [
        "n = 2 * T * f0\n",
        "fd = 8 * 10 ** 3\n",
        "N0 = 1 + 2 * T * fd\n",
        "M = (N0 - 1) / n\n",
        "\n",
        "def S4(k):\n",
        "  arg = 2 * math.pi / M * k\n",
        "\n",
        "  # там точка разрыва, но она устранимая\n",
        "  if arg == 0:\n",
        "    return S0\n",
        "\n",
        "  return S0 * math.sin(arg) / arg if abs(k) <= (N0 - 1) / 2 else 0\n",
        "\n",
        "draw_discrete_function_plot(S4, start=-10, stop=10)\n",
        "\n",
        "def S4_offset(k):\n",
        "  return S4(k - (N0 - 1) / 2)\n",
        "\n",
        "draw_discrete_function_plot(S4_offset, stop=15)\n",
        "\n",
        "print(S4_offset(1))\n",
        "print(S4_offset(3))\n",
        "print(S4_offset(4))"
      ],
      "execution_count": null,
      "outputs": [
        {
          "output_type": "display_data",
          "data": {
            "image/png": "[encoded data removed]",
            "text/plain": [
              "<Figure size 432x288 with 1 Axes>"
            ]
          },
          "metadata": {
            "tags": [],
            "needs_background": "light"
          }
        },
        {
          "output_type": "display_data",
          "data": {
            "image/png": "[encoded data removed]",
            "text/plain": [
              "<Figure size 432x288 with 1 Axes>"
            ]
          },
          "metadata": {
            "tags": [],
            "needs_background": "light"
          }
        },
        {
          "output_type": "stream",
          "text": [
            "-2.1220659078919377\n",
            "6.366197723675814\n",
            "10\n"
          ],
          "name": "stdout"
        }
      ]
    },
    {
      "cell_type": "markdown",
      "metadata": {
        "id": "WG-d5oIBS18c"
      },
      "source": [
        "## Сигнал 5"
      ]
    },
    {
      "cell_type": "markdown",
      "metadata": {
        "id": "55Cv_ef0neQP"
      },
      "source": [
        "Непрерывная форма"
      ]
    },
    {
      "cell_type": "code",
      "metadata": {
        "colab": {
          "base_uri": "https://localhost:8080/",
          "height": 265
        },
        "id": "O6mAulQvkaX4",
        "outputId": "260c8007-07ee-46cc-cf60-793e985c9443"
      },
      "source": [
        "S0 = 10\n",
        "f0 = 2000\n",
        "u0 = math.pi / 6\n",
        "T = 0.001\n",
        "\n",
        "def S5(t):\n",
        "  return S0 * math.cos(2 * math.pi * f0 * t - u0) if 0 <= t <= T else 0\n",
        "\n",
        "draw_continuous_function_plot(S5, stop=0.0015)"
      ],
      "execution_count": null,
      "outputs": [
        {
          "output_type": "display_data",
          "data": {
            "image/png": "[encoded data removed]",
            "text/plain": [
              "<Figure size 432x288 with 1 Axes>"
            ]
          },
          "metadata": {
            "tags": [],
            "needs_background": "light"
          }
        }
      ]
    },
    {
      "cell_type": "markdown",
      "metadata": {
        "id": "2YQiEqhYoJzx"
      },
      "source": [
        "Дискретная форма"
      ]
    },
    {
      "cell_type": "code",
      "metadata": {
        "colab": {
          "base_uri": "https://localhost:8080/",
          "height": 282
        },
        "id": "MDdZKItVoOLw",
        "outputId": "b912df52-a90f-4761-945e-e584d64761ce"
      },
      "source": [
        "N0 = 16\n",
        "n = f0 * T\n",
        "M = N0 / n\n",
        "\n",
        "print(M)\n",
        "\n",
        "def S5(k):\n",
        "  return S0 * math.cos(2 * math.pi / M * k - u0) if 0 <= k < N0 else 0\n",
        "\n",
        "draw_discrete_function_plot(S5, stop=20)"
      ],
      "execution_count": null,
      "outputs": [
        {
          "output_type": "stream",
          "text": [
            "8.0\n"
          ],
          "name": "stdout"
        },
        {
          "output_type": "display_data",
          "data": {
            "image/png": "[encoded data removed]",
            "text/plain": [
              "<Figure size 432x288 with 1 Axes>"
            ]
          },
          "metadata": {
            "tags": [],
            "needs_background": "light"
          }
        }
      ]
    }
  ]
}