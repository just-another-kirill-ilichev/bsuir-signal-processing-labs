{
  "nbformat": 4,
  "nbformat_minor": 0,
  "metadata": {
    "colab": {
      "name": "lab1_mfiots.ipynb",
      "provenance": [],
      "collapsed_sections": [
        "XfSPa08VOyEF",
        "0ARmIxbmO8cK"
      ],
      "authorship_tag": "ABX9TyPpWAaJ5UVzJl9PVTj9zX9/",
      "include_colab_link": true
    },
    "kernelspec": {
      "name": "python3",
      "display_name": "Python 3"
    }
  },
  "cells": [
    {
      "cell_type": "markdown",
      "metadata": {
        "id": "view-in-github",
        "colab_type": "text"
      },
      "source": [
        "<a href=\"https://colab.research.google.com/github/just-another-kirill-ilichev/bsuir-signal-processing-labs/blob/main/lab1.ipynb\" target=\"_parent\"><img src=\"https://colab.research.google.com/assets/colab-badge.svg\" alt=\"Open In Colab\"/></a>"
      ]
    },
    {
      "cell_type": "code",
      "metadata": {
        "id": "clo_l-wsHhkj"
      },
      "source": [
        "import matplotlib.pyplot as plt\n",
        "import numpy as np\n",
        "import math\n",
        "\n",
        "def draw_discrete_function_plot(func, start=0, stop=10):\n",
        "  k = np.arange(start, stop)\n",
        "  y = np.vectorize(func, otypes=[np.float])(k)\n",
        "\n",
        "  plt.stem(k, y, use_line_collection=True)\n",
        "  plt.show()\n",
        "\n",
        "def draw_continuous_function_plot(func, start=0, stop=10, num=100):\n",
        "  t = np.linspace(start, stop, num)\n",
        "  y = np.vectorize(func, otypes=[np.float])(t)\n",
        "\n",
        "  plt.plot(t, y)\n",
        "  plt.show()"
      ],
      "execution_count": 30,
      "outputs": []
    },
    {
      "cell_type": "markdown",
      "metadata": {
        "id": "XfSPa08VOyEF"
      },
      "source": [
        "## Сигнал 1"
      ]
    },
    {
      "cell_type": "code",
      "metadata": {
        "colab": {
          "base_uri": "https://localhost:8080/",
          "height": 0
        },
        "id": "92fv1PPwdc_f",
        "outputId": "9d365825-31a9-42ce-86d8-018179e12eb5"
      },
      "source": [
        "S0 = 10\n",
        "N0 = 8\n",
        "\n",
        "def S1(k):\n",
        "  return S0 if 0 <= k < N0 else 0\n",
        "\n",
        "draw_discrete_function_plot(S1)"
      ],
      "execution_count": 31,
      "outputs": [
        {
          "output_type": "display_data",
          "data": {
            "image/png": "[encoded data removed]",
            "text/plain": [
              "<Figure size 432x288 with 1 Axes>"
            ]
          },
          "metadata": {
            "tags": [],
            "needs_background": "light"
          }
        }
      ]
    },
    {
      "cell_type": "markdown",
      "metadata": {
        "id": "pFYqR525O44C"
      },
      "source": [
        "## Сигнал 2"
      ]
    },
    {
      "cell_type": "code",
      "metadata": {
        "colab": {
          "base_uri": "https://localhost:8080/",
          "height": 265
        },
        "id": "XPDzB20mHxrr",
        "outputId": "c85be1ad-0d58-44e2-f6c4-ba6348e78bc1"
      },
      "source": [
        "S0 = 10\n",
        "N0 = 5\n",
        "a = math.exp(-0.2)\n",
        "\n",
        "def S2(k):\n",
        "  return S0 * math.pow(a, k) if 0 <= k < N0 else 0\n",
        "\n",
        "draw_discrete_function_plot(S2)"
      ],
      "execution_count": 32,
      "outputs": [
        {
          "output_type": "display_data",
          "data": {
            "image/png": "[encoded data removed]",
            "text/plain": [
              "<Figure size 432x288 with 1 Axes>"
            ]
          },
          "metadata": {
            "tags": [],
            "needs_background": "light"
          }
        }
      ]
    },
    {
      "cell_type": "markdown",
      "metadata": {
        "id": "0ARmIxbmO8cK"
      },
      "source": [
        "## Сигнал 3"
      ]
    },
    {
      "cell_type": "code",
      "metadata": {
        "colab": {
          "base_uri": "https://localhost:8080/",
          "height": 265
        },
        "id": "qAbadMeaLEwC",
        "outputId": "3e179afe-847f-4e8f-e5ad-18e3f09f890a"
      },
      "source": [
        "N0 = 11\n",
        "a1, a2 = -1, 1\n",
        "\n",
        "def S3(k):\n",
        "  return a1 * S3(k - 1) + a2 * S3(k - 2) if 0 <= k < N0 else 0\n",
        "\n",
        "draw_discrete_function_plot(S3)"
      ],
      "execution_count": 33,
      "outputs": [
        {
          "output_type": "display_data",
          "data": {
            "image/png": "[encoded data removed]",
            "text/plain": [
              "<Figure size 432x288 with 1 Axes>"
            ]
          },
          "metadata": {
            "tags": [],
            "needs_background": "light"
          }
        }
      ]
    },
    {
      "cell_type": "markdown",
      "metadata": {
        "id": "Za_vkp2USyrx"
      },
      "source": [
        "## Сигнал 4"
      ]
    },
    {
      "cell_type": "markdown",
      "metadata": {
        "id": "UybACsW8Zgxd"
      },
      "source": [
        "Непрерывная форма"
      ]
    },
    {
      "cell_type": "code",
      "metadata": {
        "colab": {
          "base_uri": "https://localhost:8080/",
          "height": 265
        },
        "id": "YSFwkSwcS5v1",
        "outputId": "7287f824-89ac-4bbb-8286-044d42562c11"
      },
      "source": [
        "T = 0.5 * 10**-3\n",
        "S0 = 10\n",
        "f0 = 2000\n",
        "\n",
        "def S4(t):\n",
        "  arg = 2 * math.pi * f0 * t\n",
        "  return S0 * math.sin(arg) / arg if abs(t) <= T else 0\n",
        "\n",
        "draw_continuous_function_plot(S4, start=-0.001, stop=0.001)"
      ],
      "execution_count": 34,
      "outputs": [
        {
          "output_type": "display_data",
          "data": {
            "image/png": "[encoded data removed]",
            "text/plain": [
              "<Figure size 432x288 with 1 Axes>"
            ]
          },
          "metadata": {
            "tags": [],
            "needs_background": "light"
          }
        }
      ]
    },
    {
      "cell_type": "markdown",
      "metadata": {
        "id": "7jel_KLdaZnO"
      },
      "source": [
        "Дискретная форма"
      ]
    },
    {
      "cell_type": "code",
      "metadata": {
        "colab": {
          "base_uri": "https://localhost:8080/",
          "height": 513
        },
        "id": "weEvJrbGadkn",
        "outputId": "379d33b3-435c-47a9-fbf1-2fccc7d47b46"
      },
      "source": [
        "n = 2 * T * f0\n",
        "M = (N0 - 1) / n\n",
        "\n",
        "def S4(k):\n",
        "  arg = 2 * math.pi / M * k\n",
        "\n",
        "  # там точка разрыва, но она устранимая\n",
        "  if arg == 0:\n",
        "    return S0\n",
        "\n",
        "  return S0 * math.sin(arg) / arg if abs(k) <= (N0 - 1) / 2 else 0\n",
        "\n",
        "draw_discrete_function_plot(S4, start=-10, stop=10)\n",
        "\n",
        "def S4_offset(k):\n",
        "  return S4(k - (N0 - 1) / 2)\n",
        "\n",
        "draw_discrete_function_plot(S4_offset, stop=15)"
      ],
      "execution_count": 8,
      "outputs": [
        {
          "output_type": "display_data",
          "data": {
            "image/png": "[encoded data removed]",
            "text/plain": [
              "<Figure size 432x288 with 1 Axes>"
            ]
          },
          "metadata": {
            "tags": [],
            "needs_background": "light"
          }
        },
        {
          "output_type": "display_data",
          "data": {
            "image/png": "[encoded data removed]",
            "text/plain": [
              "<Figure size 432x288 with 1 Axes>"
            ]
          },
          "metadata": {
            "tags": [],
            "needs_background": "light"
          }
        }
      ]
    },
    {
      "cell_type": "markdown",
      "metadata": {
        "id": "WG-d5oIBS18c"
      },
      "source": [
        "## Сигнал 5"
      ]
    },
    {
      "cell_type": "markdown",
      "metadata": {
        "id": "55Cv_ef0neQP"
      },
      "source": [
        "Непрерывная форма"
      ]
    },
    {
      "cell_type": "code",
      "metadata": {
        "colab": {
          "base_uri": "https://localhost:8080/",
          "height": 265
        },
        "id": "O6mAulQvkaX4",
        "outputId": "f19298b4-4c66-4593-dc51-8241cfc6f6b4"
      },
      "source": [
        "S0 = 10\n",
        "f0 = 2000\n",
        "u0 = math.pi / 6\n",
        "T = 0.001\n",
        "\n",
        "def S5(t):\n",
        "  return S0 * math.cos(2 * math.pi * f0 * t - u0) if 0 <= t <= T else 0\n",
        "\n",
        "draw_continuous_function_plot(S5, stop=0.0015)"
      ],
      "execution_count": 35,
      "outputs": [
        {
          "output_type": "display_data",
          "data": {
            "image/png": "[encoded data removed]",
            "text/plain": [
              "<Figure size 432x288 with 1 Axes>"
            ]
          },
          "metadata": {
            "tags": [],
            "needs_background": "light"
          }
        }
      ]
    },
    {
      "cell_type": "markdown",
      "metadata": {
        "id": "2YQiEqhYoJzx"
      },
      "source": [
        "Дискретная форма"
      ]
    },
    {
      "cell_type": "code",
      "metadata": {
        "colab": {
          "base_uri": "https://localhost:8080/",
          "height": 265
        },
        "id": "MDdZKItVoOLw",
        "outputId": "d46207dd-6e3a-4d4d-af69-01600434499e"
      },
      "source": [
        "N0 = 16\n",
        "n = f0 * T\n",
        "M = N0 / n\n",
        "\n",
        "def S5(k):\n",
        "  return S0 * math.cos(2 * math.pi / M * k - u0) if 0 <= k < N0 else 0\n",
        "\n",
        "draw_discrete_function_plot(S5, stop=20)"
      ],
      "execution_count": 29,
      "outputs": [
        {
          "output_type": "display_data",
          "data": {
            "image/png": "[encoded data removed]",
            "text/plain": [
              "<Figure size 432x288 with 1 Axes>"
            ]
          },
          "metadata": {
            "tags": [],
            "needs_background": "light"
          }
        }
      ]
    }
  ]
}