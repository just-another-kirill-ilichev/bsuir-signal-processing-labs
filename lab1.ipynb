{
  "nbformat": 4,
  "nbformat_minor": 0,
  "metadata": {
    "colab": {
      "name": "lab1_mfiots.ipynb",
      "provenance": [],
      "authorship_tag": "ABX9TyMbvXpTGObpOXOmGsqteE0m",
      "include_colab_link": true
    },
    "kernelspec": {
      "name": "python3",
      "display_name": "Python 3"
    }
  },
  "cells": [
    {
      "cell_type": "markdown",
      "metadata": {
        "id": "view-in-github",
        "colab_type": "text"
      },
      "source": [
        "<a href=\"https://colab.research.google.com/github/just-another-kirill-ilichev/bsuir-signal-processing-labs/blob/main/lab1.ipynb\" target=\"_parent\"><img src=\"https://colab.research.google.com/assets/colab-badge.svg\" alt=\"Open In Colab\"/></a>"
      ]
    },
    {
      "cell_type": "code",
      "metadata": {
        "id": "clo_l-wsHhkj"
      },
      "source": [
        "import matplotlib.pyplot as plt\n",
        "import numpy as np\n",
        "import math\n",
        "\n",
        "def draw_descrete_function_plot(func, start = 0, count = 10):\n",
        "  k = np.arange(start = start, stop = count - start)\n",
        "  y = np.vectorize(func)(k)\n",
        "\n",
        "  plt.stem(k, y, use_line_collection=True)\n",
        "  plt.show()"
      ],
      "execution_count": 22,
      "outputs": []
    },
    {
      "cell_type": "markdown",
      "metadata": {
        "id": "XfSPa08VOyEF"
      },
      "source": [
        "## Сигнал 1"
      ]
    },
    {
      "cell_type": "code",
      "metadata": {
        "colab": {
          "base_uri": "https://localhost:8080/",
          "height": 265
        },
        "id": "92fv1PPwdc_f",
        "outputId": "afce7e4b-d081-4c85-8533-f4927fdf9bb7"
      },
      "source": [
        "S0 = 10\n",
        "N0 = 8\n",
        "\n",
        "def S1(k):\n",
        "  return S0 if 0 <= k < N0 else 0\n",
        "\n",
        "draw_descrete_function_plot(S1)"
      ],
      "execution_count": 23,
      "outputs": [
        {
          "output_type": "display_data",
          "data": {
            "image/png": "[encoded data removed]",
            "text/plain": [
              "<Figure size 432x288 with 1 Axes>"
            ]
          },
          "metadata": {
            "tags": [],
            "needs_background": "light"
          }
        }
      ]
    },
    {
      "cell_type": "markdown",
      "metadata": {
        "id": "pFYqR525O44C"
      },
      "source": [
        "## Сигнал 2"
      ]
    },
    {
      "cell_type": "code",
      "metadata": {
        "colab": {
          "base_uri": "https://localhost:8080/",
          "height": 0
        },
        "id": "XPDzB20mHxrr",
        "outputId": "83e453c7-9003-44c2-b1a3-15adcec1c241"
      },
      "source": [
        "S0 = 10\n",
        "N0 = 5\n",
        "a = math.exp(-0.2)\n",
        "\n",
        "def S2(k):\n",
        "  return S0 * math.pow(a, k) if 0 <= k < N0 else 0\n",
        "\n",
        "draw_descrete_function_plot(S2)"
      ],
      "execution_count": 24,
      "outputs": [
        {
          "output_type": "display_data",
          "data": {
            "image/png": "[encoded data removed]",
            "text/plain": [
              "<Figure size 432x288 with 1 Axes>"
            ]
          },
          "metadata": {
            "tags": [],
            "needs_background": "light"
          }
        }
      ]
    },
    {
      "cell_type": "markdown",
      "metadata": {
        "id": "0ARmIxbmO8cK"
      },
      "source": [
        "## Сигнал 3"
      ]
    },
    {
      "cell_type": "code",
      "metadata": {
        "colab": {
          "base_uri": "https://localhost:8080/",
          "height": 265
        },
        "id": "qAbadMeaLEwC",
        "outputId": "4dddb77b-4dd6-442d-aaf5-e3503f365f99"
      },
      "source": [
        "N0 = 11\n",
        "a1, a2 = -1, 1\n",
        "\n",
        "def S3(k):\n",
        "  return a1 * S3(k - 1) + a2 * S3(k - 2) if 0 <= k < N0 else 0\n",
        "\n",
        "draw_descrete_function_plot(S3)"
      ],
      "execution_count": 25,
      "outputs": [
        {
          "output_type": "display_data",
          "data": {
            "image/png": "[encoded data removed]",
            "text/plain": [
              "<Figure size 432x288 with 1 Axes>"
            ]
          },
          "metadata": {
            "tags": [],
            "needs_background": "light"
          }
        }
      ]
    }
  ]
}